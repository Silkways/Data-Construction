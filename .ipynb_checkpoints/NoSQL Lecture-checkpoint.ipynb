{
 "cells": [
  {
   "cell_type": "markdown",
   "metadata": {},
   "source": [
    "#NoSQL Lecutre Notes"
   ]
  },
  {
   "cell_type": "markdown",
   "metadata": {},
   "source": [
    "list type are mutable e.g. a = ['1,2,3,4]\n",
    "\n",
    "tuple are not mutable e.g. a = (1,2,3,4)\n",
    "\n",
    "time it module to run code speed  - tuple are much slower than lists // you gain on memory efficiency \n",
    " > this is true for SQL vs NoSQL\n",
    " \n",
    " > NoSQL scales better with Big Data \n",
    " \n",
    " > Scale / Availability / Replication / Schemaless\n",
    " \n",
    " > Raid drives in media industry\n",
    "\n",
    "CAP THEOREM: Consistency Availability Partitioning Tolerance \n",
    "\n",
    "   > SQL focuses on consistency not speed \n",
    "   \n",
    "   > NoSQL enhances speed \n",
    "   \n",
    "   > Different match of garanty\n",
    "   \n",
    "Check out ACID Transactions \n",
    "\n",
    "NoSQL Databases examples\n",
    "\n",
    " > Redis\n",
    " \n",
    " > MongoDB\n",
    " \n",
    " > Couch DB \n",
    " \n",
    " \n",
    "Implementations of NoSQL\n",
    "\n",
    " > key-value store\n",
    " \n",
    " > graph DB\n",
    " \n",
    " > column family\n",
    " \n",
    " > document store \n",
    "\n",
    "Document Type \n",
    "\n",
    " > Mongo DB -> key value -> value is a json document \n",
    " \n",
    "\n",
    "Mongo DB \n",
    "\n",
    " > in Python -> import pymongo\n",
    " \n",
    " > myclient= pymongo.MongoClient(\"mongodb://127.0.0.1:27017/\")\n",
    " \n",
    " > \n"
   ]
  },
  {
   "cell_type": "markdown",
   "metadata": {},
   "source": []
  }
 ],
 "metadata": {
  "kernelspec": {
   "display_name": "Python 3",
   "language": "python",
   "name": "python3"
  },
  "language_info": {
   "codemirror_mode": {
    "name": "ipython",
    "version": 3
   },
   "file_extension": ".py",
   "mimetype": "text/x-python",
   "name": "python",
   "nbconvert_exporter": "python",
   "pygments_lexer": "ipython3",
   "version": "3.6.8"
  }
 },
 "nbformat": 4,
 "nbformat_minor": 2
}
