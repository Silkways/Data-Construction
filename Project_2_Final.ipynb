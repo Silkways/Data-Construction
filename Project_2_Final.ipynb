{
 "cells": [
  {
   "cell_type": "markdown",
   "metadata": {},
   "source": [
    "# Title: Data Engineering Project"
   ]
  },
  {
   "cell_type": "markdown",
   "metadata": {},
   "source": [
    "Ojbectives & Requirements:\n",
    "\n",
    "Extract the name of each team\n",
    "\n",
    "Present the total number of goals scored by each german team during the 2011 season\n",
    "\n",
    "Present the total number of wins the team earned during the 2011 season\n",
    "\n",
    "Display histogram visualizations of the teams' wins and losses for the 2011 season (store the visualization directly)\n",
    "\n",
    "Highlight the teams' win percentage on days where it was raining during games in the 2011 season."
   ]
  },
  {
   "cell_type": "markdown",
   "metadata": {},
   "source": [
    "# I. Package Installation"
   ]
  },
  {
   "cell_type": "code",
   "execution_count": 10,
   "metadata": {},
   "outputs": [],
   "source": [
    "#This is where we import the relevant packages to be used. \n",
    "#SQL to organise our data / Pandas & Numpy for the second stage of anlaysis.\n",
    "\n",
    "import sqlite3 \n",
    "import pandas as pd\n",
    "import numpy as np\n",
    "import requests\n",
    "import json"
   ]
  },
  {
   "cell_type": "markdown",
   "metadata": {},
   "source": [
    "# II. Data Join - SQL"
   ]
  },
  {
   "cell_type": "code",
   "execution_count": 11,
   "metadata": {},
   "outputs": [
    {
     "data": {
      "text/html": [
       "<div>\n",
       "<style scoped>\n",
       "    .dataframe tbody tr th:only-of-type {\n",
       "        vertical-align: middle;\n",
       "    }\n",
       "\n",
       "    .dataframe tbody tr th {\n",
       "        vertical-align: top;\n",
       "    }\n",
       "\n",
       "    .dataframe thead th {\n",
       "        text-align: right;\n",
       "    }\n",
       "</style>\n",
       "<table border=\"1\" class=\"dataframe\">\n",
       "  <thead>\n",
       "    <tr style=\"text-align: right;\">\n",
       "      <th></th>\n",
       "      <th>Match_ID</th>\n",
       "      <th>Unique_Team_ID</th>\n",
       "      <th>TeamName</th>\n",
       "      <th>Div</th>\n",
       "      <th>Season</th>\n",
       "      <th>Date</th>\n",
       "      <th>HomeTeam</th>\n",
       "      <th>AwayTeam</th>\n",
       "      <th>FTHG</th>\n",
       "      <th>FTAG</th>\n",
       "      <th>FTR</th>\n",
       "    </tr>\n",
       "  </thead>\n",
       "  <tbody>\n",
       "    <tr>\n",
       "      <th>0</th>\n",
       "      <td>1092</td>\n",
       "      <td>1</td>\n",
       "      <td>Bayern Munich</td>\n",
       "      <td>D1</td>\n",
       "      <td>2011</td>\n",
       "      <td>2012-03-31</td>\n",
       "      <td>Nurnberg</td>\n",
       "      <td>Bayern Munich</td>\n",
       "      <td>0</td>\n",
       "      <td>1</td>\n",
       "      <td>A</td>\n",
       "    </tr>\n",
       "    <tr>\n",
       "      <th>1</th>\n",
       "      <td>1092</td>\n",
       "      <td>22</td>\n",
       "      <td>Nurnberg</td>\n",
       "      <td>D1</td>\n",
       "      <td>2011</td>\n",
       "      <td>2012-03-31</td>\n",
       "      <td>Nurnberg</td>\n",
       "      <td>Bayern Munich</td>\n",
       "      <td>0</td>\n",
       "      <td>1</td>\n",
       "      <td>A</td>\n",
       "    </tr>\n",
       "    <tr>\n",
       "      <th>2</th>\n",
       "      <td>1093</td>\n",
       "      <td>1</td>\n",
       "      <td>Bayern Munich</td>\n",
       "      <td>D1</td>\n",
       "      <td>2011</td>\n",
       "      <td>2011-12-11</td>\n",
       "      <td>Stuttgart</td>\n",
       "      <td>Bayern Munich</td>\n",
       "      <td>1</td>\n",
       "      <td>2</td>\n",
       "      <td>A</td>\n",
       "    </tr>\n",
       "    <tr>\n",
       "      <th>3</th>\n",
       "      <td>1093</td>\n",
       "      <td>17</td>\n",
       "      <td>Stuttgart</td>\n",
       "      <td>D1</td>\n",
       "      <td>2011</td>\n",
       "      <td>2011-12-11</td>\n",
       "      <td>Stuttgart</td>\n",
       "      <td>Bayern Munich</td>\n",
       "      <td>1</td>\n",
       "      <td>2</td>\n",
       "      <td>A</td>\n",
       "    </tr>\n",
       "    <tr>\n",
       "      <th>4</th>\n",
       "      <td>1094</td>\n",
       "      <td>1</td>\n",
       "      <td>Bayern Munich</td>\n",
       "      <td>D1</td>\n",
       "      <td>2011</td>\n",
       "      <td>2011-08-13</td>\n",
       "      <td>Wolfsburg</td>\n",
       "      <td>Bayern Munich</td>\n",
       "      <td>0</td>\n",
       "      <td>1</td>\n",
       "      <td>A</td>\n",
       "    </tr>\n",
       "  </tbody>\n",
       "</table>\n",
       "</div>"
      ],
      "text/plain": [
       "   Match_ID  Unique_Team_ID       TeamName Div  Season        Date   HomeTeam  \\\n",
       "0      1092               1  Bayern Munich  D1    2011  2012-03-31   Nurnberg   \n",
       "1      1092              22       Nurnberg  D1    2011  2012-03-31   Nurnberg   \n",
       "2      1093               1  Bayern Munich  D1    2011  2011-12-11  Stuttgart   \n",
       "3      1093              17      Stuttgart  D1    2011  2011-12-11  Stuttgart   \n",
       "4      1094               1  Bayern Munich  D1    2011  2011-08-13  Wolfsburg   \n",
       "\n",
       "        AwayTeam  FTHG  FTAG FTR  \n",
       "0  Bayern Munich     0     1   A  \n",
       "1  Bayern Munich     0     1   A  \n",
       "2  Bayern Munich     1     2   A  \n",
       "3  Bayern Munich     1     2   A  \n",
       "4  Bayern Munich     0     1   A  "
      ]
     },
     "execution_count": 11,
     "metadata": {},
     "output_type": "execute_result"
    }
   ],
   "source": [
    "#Unique DataFrame created using three data sources: Teams_in_Matches / Unique_Teams / Matches \n",
    "#Presents duplicated entries for each match\n",
    "\n",
    "conn = sqlite3.connect('database.sqlite')\n",
    "cur = conn.cursor()\n",
    "\n",
    "cur.execute(\"\"\"SELECT * FROM Teams_in_Matches JOIN Unique_Teams USING (Unique_Team_ID) JOIN Matches \n",
    "               USING (Match_ID) WHERE Season = 2011\"\"\")\n",
    "pdset = pd.DataFrame(cur.fetchall())\n",
    "pdset.columns = [x[0] for x in cur.description]\n",
    "pdset.head()"
   ]
  },
  {
   "cell_type": "markdown",
   "metadata": {},
   "source": [
    "# III. Adding result data and goals of the TeamName - Pandas"
   ]
  },
  {
   "cell_type": "code",
   "execution_count": 15,
   "metadata": {},
   "outputs": [],
   "source": [
    "#Replace 'TeamName' column Label with 'MainTeam' for clarity\n",
    "\n",
    "pdset.rename(columns={'TeamName':'MainTeam'}, inplace = True)\n",
    "\n",
    "#Adding result of the TeamName (we'll refer to TeamName as Main Team)\n",
    "\n",
    "for i, row in pdset.iterrows():\n",
    "    if row.MainTeam == row.AwayTeam:\n",
    "        # Away\n",
    "        if row.FTR == 'A':\n",
    "            pdset.loc[i,'Result'] = \"W\"\n",
    "        elif row.FTR == 'D':\n",
    "            pdset.loc[i,'Result'] = \"D\"\n",
    "        else:\n",
    "            pdset.loc[i,'Result'] = \"L\"\n",
    "    else:\n",
    "        # Home\n",
    "        if row.FTR == 'H':\n",
    "            pdset.loc[i,'Result'] = \"W\"\n",
    "        elif row.FTR == 'D':\n",
    "            pdset.loc[i,'Result'] = \"D\"\n",
    "        else:\n",
    "            pdset.loc[i,'Result'] = \"L\"\n",
    "\n",
    "#Adding number of goals for the main team \n",
    "            \n",
    "pdset['goals_scored'] = np.where(pdset['MainTeam'] == pdset ['AwayTeam'], pdset['FTAG'], pdset['FTHG'])\n",
    "\n",
    "#Keeping only German football divisions: D1 & D2\n",
    "\n",
    "pdset = pdset[pdset.Div != 'E0']"
   ]
  },
  {
   "cell_type": "code",
   "execution_count": null,
   "metadata": {},
   "outputs": [],
   "source": []
  }
 ],
 "metadata": {
  "kernelspec": {
   "display_name": "Python 3",
   "language": "python",
   "name": "python3"
  },
  "language_info": {
   "codemirror_mode": {
    "name": "ipython",
    "version": 3
   },
   "file_extension": ".py",
   "mimetype": "text/x-python",
   "name": "python",
   "nbconvert_exporter": "python",
   "pygments_lexer": "ipython3",
   "version": "3.6.8"
  }
 },
 "nbformat": 4,
 "nbformat_minor": 2
}
